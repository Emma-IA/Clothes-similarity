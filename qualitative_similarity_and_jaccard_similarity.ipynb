{
 "cells": [
  {
   "cell_type": "code",
   "execution_count": 1,
   "metadata": {},
   "outputs": [
    {
     "name": "stderr",
     "output_type": "stream",
     "text": [
      "/Users/jskaf/Documents/Cours ECM 3A/CV/Clothes-similarity/clothes_sim/lib/python3.9/site-packages/urllib3/__init__.py:35: NotOpenSSLWarning: urllib3 v2 only supports OpenSSL 1.1.1+, currently the 'ssl' module is compiled with 'LibreSSL 2.8.3'. See: https://github.com/urllib3/urllib3/issues/3020\n",
      "  warnings.warn(\n"
     ]
    }
   ],
   "source": [
    "import pandas as pd\n",
    "import torch \n",
    "import pickle\n",
    "from torch import nn\n",
    "import torchvision\n",
    "import os\n",
    "import numpy as np"
   ]
  },
  {
   "cell_type": "code",
   "execution_count": 2,
   "metadata": {},
   "outputs": [],
   "source": [
    "#fix the seed\n",
    "torch.manual_seed(0)\n",
    "np.random.seed(0)"
   ]
  },
  {
   "cell_type": "code",
   "execution_count": 3,
   "metadata": {},
   "outputs": [],
   "source": [
    "train_img_csv = pd.read_csv('train_predictions_img_ft_1.csv')\n",
    "train_tab_csv = pd.read_csv('train_hm_tab_cluster_ft_1.csv')\n",
    "test_tab_csv = pd.read_csv('test_hm_tab_cluster_ft_1.csv')\n",
    "test_img_csv = pd.read_csv('test_predictions_img_ft_1.csv')"
   ]
  },
  {
   "cell_type": "code",
   "execution_count": 4,
   "metadata": {},
   "outputs": [],
   "source": [
    "df = pd.read_csv('data/h&mdataset/articles.csv')\n",
    "df = df.drop(columns=['prod_name','product_code','department_no', 'index_code', \t\n",
    "       'product_type_name', 'product_group_name',\n",
    "       'graphical_appearance_name', 'colour_group_name', 'perceived_colour_value_name', 'perceived_colour_master_name', 'department_name', 'index_name', 'index_group_name', 'section_name', 'garment_group_name', 'detail_desc'])"
   ]
  },
  {
   "cell_type": "code",
   "execution_count": 5,
   "metadata": {},
   "outputs": [
    {
     "name": "stdout",
     "output_type": "stream",
     "text": [
      "Skipping .DS_Store as it is not a jpg file\n"
     ]
    }
   ],
   "source": [
    "from dataset import myDataset\n",
    "\n",
    "get_preprocessed_image = True\n",
    "train_test_split = 0.9\n",
    "my_path_hm = os.path.join(os.getcwd(), 'data/h&mdataset/images/')\n",
    "my_path_fash = os.path.join(os.getcwd(), 'data/fashion-dataset/images/')\n",
    "\n",
    "dataset = myDataset(my_path_hm, my_path_fash, get_preprocessed_image, 'hm')"
   ]
  },
  {
   "cell_type": "code",
   "execution_count": 6,
   "metadata": {},
   "outputs": [
    {
     "data": {
      "text/html": [
       "<div>\n",
       "<style scoped>\n",
       "    .dataframe tbody tr th:only-of-type {\n",
       "        vertical-align: middle;\n",
       "    }\n",
       "\n",
       "    .dataframe tbody tr th {\n",
       "        vertical-align: top;\n",
       "    }\n",
       "\n",
       "    .dataframe thead th {\n",
       "        text-align: right;\n",
       "    }\n",
       "</style>\n",
       "<table border=\"1\" class=\"dataframe\">\n",
       "  <thead>\n",
       "    <tr style=\"text-align: right;\">\n",
       "      <th></th>\n",
       "      <th>image</th>\n",
       "      <th>cluster</th>\n",
       "    </tr>\n",
       "  </thead>\n",
       "  <tbody>\n",
       "    <tr>\n",
       "      <th>0</th>\n",
       "      <td>/Users/jskaf/Documents/Cours ECM 3A/CV/Clothes...</td>\n",
       "      <td>201</td>\n",
       "    </tr>\n",
       "    <tr>\n",
       "      <th>1</th>\n",
       "      <td>/Users/jskaf/Documents/Cours ECM 3A/CV/Clothes...</td>\n",
       "      <td>201</td>\n",
       "    </tr>\n",
       "    <tr>\n",
       "      <th>2</th>\n",
       "      <td>/Users/jskaf/Documents/Cours ECM 3A/CV/Clothes...</td>\n",
       "      <td>201</td>\n",
       "    </tr>\n",
       "    <tr>\n",
       "      <th>3</th>\n",
       "      <td>/Users/jskaf/Documents/Cours ECM 3A/CV/Clothes...</td>\n",
       "      <td>201</td>\n",
       "    </tr>\n",
       "    <tr>\n",
       "      <th>4</th>\n",
       "      <td>/Users/jskaf/Documents/Cours ECM 3A/CV/Clothes...</td>\n",
       "      <td>201</td>\n",
       "    </tr>\n",
       "    <tr>\n",
       "      <th>...</th>\n",
       "      <td>...</td>\n",
       "      <td>...</td>\n",
       "    </tr>\n",
       "    <tr>\n",
       "      <th>10505</th>\n",
       "      <td>/Users/jskaf/Documents/Cours ECM 3A/CV/Clothes...</td>\n",
       "      <td>201</td>\n",
       "    </tr>\n",
       "    <tr>\n",
       "      <th>10506</th>\n",
       "      <td>/Users/jskaf/Documents/Cours ECM 3A/CV/Clothes...</td>\n",
       "      <td>201</td>\n",
       "    </tr>\n",
       "    <tr>\n",
       "      <th>10507</th>\n",
       "      <td>/Users/jskaf/Documents/Cours ECM 3A/CV/Clothes...</td>\n",
       "      <td>201</td>\n",
       "    </tr>\n",
       "    <tr>\n",
       "      <th>10508</th>\n",
       "      <td>/Users/jskaf/Documents/Cours ECM 3A/CV/Clothes...</td>\n",
       "      <td>201</td>\n",
       "    </tr>\n",
       "    <tr>\n",
       "      <th>10509</th>\n",
       "      <td>/Users/jskaf/Documents/Cours ECM 3A/CV/Clothes...</td>\n",
       "      <td>201</td>\n",
       "    </tr>\n",
       "  </tbody>\n",
       "</table>\n",
       "<p>10510 rows × 2 columns</p>\n",
       "</div>"
      ],
      "text/plain": [
       "                                                   image  cluster\n",
       "0      /Users/jskaf/Documents/Cours ECM 3A/CV/Clothes...      201\n",
       "1      /Users/jskaf/Documents/Cours ECM 3A/CV/Clothes...      201\n",
       "2      /Users/jskaf/Documents/Cours ECM 3A/CV/Clothes...      201\n",
       "3      /Users/jskaf/Documents/Cours ECM 3A/CV/Clothes...      201\n",
       "4      /Users/jskaf/Documents/Cours ECM 3A/CV/Clothes...      201\n",
       "...                                                  ...      ...\n",
       "10505  /Users/jskaf/Documents/Cours ECM 3A/CV/Clothes...      201\n",
       "10506  /Users/jskaf/Documents/Cours ECM 3A/CV/Clothes...      201\n",
       "10507  /Users/jskaf/Documents/Cours ECM 3A/CV/Clothes...      201\n",
       "10508  /Users/jskaf/Documents/Cours ECM 3A/CV/Clothes...      201\n",
       "10509  /Users/jskaf/Documents/Cours ECM 3A/CV/Clothes...      201\n",
       "\n",
       "[10510 rows x 2 columns]"
      ]
     },
     "execution_count": 6,
     "metadata": {},
     "output_type": "execute_result"
    }
   ],
   "source": [
    "test_img_csv"
   ]
  },
  {
   "cell_type": "code",
   "execution_count": 7,
   "metadata": {},
   "outputs": [],
   "source": [
    "#find common points in test img and tab\n",
    "\n",
    "common_points = pd.merge(test_img_csv, test_tab_csv, left_on='image', right_on='img_name', how='inner')"
   ]
  },
  {
   "cell_type": "code",
   "execution_count": 8,
   "metadata": {},
   "outputs": [
    {
     "data": {
      "text/html": [
       "<div>\n",
       "<style scoped>\n",
       "    .dataframe tbody tr th:only-of-type {\n",
       "        vertical-align: middle;\n",
       "    }\n",
       "\n",
       "    .dataframe tbody tr th {\n",
       "        vertical-align: top;\n",
       "    }\n",
       "\n",
       "    .dataframe thead th {\n",
       "        text-align: right;\n",
       "    }\n",
       "</style>\n",
       "<table border=\"1\" class=\"dataframe\">\n",
       "  <thead>\n",
       "    <tr style=\"text-align: right;\">\n",
       "      <th></th>\n",
       "      <th>image</th>\n",
       "      <th>cluster_x</th>\n",
       "      <th>article_id</th>\n",
       "      <th>product_type_no</th>\n",
       "      <th>graphical_appearance_no</th>\n",
       "      <th>colour_group_code</th>\n",
       "      <th>perceived_colour_value_id</th>\n",
       "      <th>perceived_colour_master_id</th>\n",
       "      <th>index_group_no</th>\n",
       "      <th>section_no</th>\n",
       "      <th>garment_group_no</th>\n",
       "      <th>cluster_y</th>\n",
       "      <th>img_name</th>\n",
       "    </tr>\n",
       "  </thead>\n",
       "  <tbody>\n",
       "    <tr>\n",
       "      <th>0</th>\n",
       "      <td>/Users/jskaf/Documents/Cours ECM 3A/CV/Clothes...</td>\n",
       "      <td>201</td>\n",
       "      <td>745702004</td>\n",
       "      <td>265</td>\n",
       "      <td>1010016</td>\n",
       "      <td>19</td>\n",
       "      <td>2</td>\n",
       "      <td>20</td>\n",
       "      <td>2</td>\n",
       "      <td>51</td>\n",
       "      <td>1002</td>\n",
       "      <td>66</td>\n",
       "      <td>/Users/jskaf/Documents/Cours ECM 3A/CV/Clothes...</td>\n",
       "    </tr>\n",
       "    <tr>\n",
       "      <th>1</th>\n",
       "      <td>/Users/jskaf/Documents/Cours ECM 3A/CV/Clothes...</td>\n",
       "      <td>201</td>\n",
       "      <td>739545001</td>\n",
       "      <td>59</td>\n",
       "      <td>1010017</td>\n",
       "      <td>72</td>\n",
       "      <td>1</td>\n",
       "      <td>2</td>\n",
       "      <td>4</td>\n",
       "      <td>44</td>\n",
       "      <td>1019</td>\n",
       "      <td>66</td>\n",
       "      <td>/Users/jskaf/Documents/Cours ECM 3A/CV/Clothes...</td>\n",
       "    </tr>\n",
       "    <tr>\n",
       "      <th>2</th>\n",
       "      <td>/Users/jskaf/Documents/Cours ECM 3A/CV/Clothes...</td>\n",
       "      <td>201</td>\n",
       "      <td>573085057</td>\n",
       "      <td>272</td>\n",
       "      <td>1010023</td>\n",
       "      <td>9</td>\n",
       "      <td>4</td>\n",
       "      <td>5</td>\n",
       "      <td>1</td>\n",
       "      <td>15</td>\n",
       "      <td>1009</td>\n",
       "      <td>66</td>\n",
       "      <td>/Users/jskaf/Documents/Cours ECM 3A/CV/Clothes...</td>\n",
       "    </tr>\n",
       "    <tr>\n",
       "      <th>3</th>\n",
       "      <td>/Users/jskaf/Documents/Cours ECM 3A/CV/Clothes...</td>\n",
       "      <td>201</td>\n",
       "      <td>606403004</td>\n",
       "      <td>252</td>\n",
       "      <td>1010016</td>\n",
       "      <td>9</td>\n",
       "      <td>4</td>\n",
       "      <td>5</td>\n",
       "      <td>3</td>\n",
       "      <td>23</td>\n",
       "      <td>1003</td>\n",
       "      <td>66</td>\n",
       "      <td>/Users/jskaf/Documents/Cours ECM 3A/CV/Clothes...</td>\n",
       "    </tr>\n",
       "    <tr>\n",
       "      <th>4</th>\n",
       "      <td>/Users/jskaf/Documents/Cours ECM 3A/CV/Clothes...</td>\n",
       "      <td>201</td>\n",
       "      <td>293433043</td>\n",
       "      <td>304</td>\n",
       "      <td>1010016</td>\n",
       "      <td>43</td>\n",
       "      <td>4</td>\n",
       "      <td>18</td>\n",
       "      <td>4</td>\n",
       "      <td>79</td>\n",
       "      <td>1021</td>\n",
       "      <td>66</td>\n",
       "      <td>/Users/jskaf/Documents/Cours ECM 3A/CV/Clothes...</td>\n",
       "    </tr>\n",
       "    <tr>\n",
       "      <th>...</th>\n",
       "      <td>...</td>\n",
       "      <td>...</td>\n",
       "      <td>...</td>\n",
       "      <td>...</td>\n",
       "      <td>...</td>\n",
       "      <td>...</td>\n",
       "      <td>...</td>\n",
       "      <td>...</td>\n",
       "      <td>...</td>\n",
       "      <td>...</td>\n",
       "      <td>...</td>\n",
       "      <td>...</td>\n",
       "      <td>...</td>\n",
       "    </tr>\n",
       "    <tr>\n",
       "      <th>1083</th>\n",
       "      <td>/Users/jskaf/Documents/Cours ECM 3A/CV/Clothes...</td>\n",
       "      <td>201</td>\n",
       "      <td>613497006</td>\n",
       "      <td>297</td>\n",
       "      <td>1010001</td>\n",
       "      <td>9</td>\n",
       "      <td>4</td>\n",
       "      <td>5</td>\n",
       "      <td>1</td>\n",
       "      <td>62</td>\n",
       "      <td>1017</td>\n",
       "      <td>66</td>\n",
       "      <td>/Users/jskaf/Documents/Cours ECM 3A/CV/Clothes...</td>\n",
       "    </tr>\n",
       "    <tr>\n",
       "      <th>1084</th>\n",
       "      <td>/Users/jskaf/Documents/Cours ECM 3A/CV/Clothes...</td>\n",
       "      <td>201</td>\n",
       "      <td>670698006</td>\n",
       "      <td>272</td>\n",
       "      <td>1010016</td>\n",
       "      <td>10</td>\n",
       "      <td>3</td>\n",
       "      <td>9</td>\n",
       "      <td>2</td>\n",
       "      <td>53</td>\n",
       "      <td>1009</td>\n",
       "      <td>66</td>\n",
       "      <td>/Users/jskaf/Documents/Cours ECM 3A/CV/Clothes...</td>\n",
       "    </tr>\n",
       "    <tr>\n",
       "      <th>1085</th>\n",
       "      <td>/Users/jskaf/Documents/Cours ECM 3A/CV/Clothes...</td>\n",
       "      <td>201</td>\n",
       "      <td>623994002</td>\n",
       "      <td>87</td>\n",
       "      <td>1010016</td>\n",
       "      <td>51</td>\n",
       "      <td>1</td>\n",
       "      <td>4</td>\n",
       "      <td>4</td>\n",
       "      <td>42</td>\n",
       "      <td>1020</td>\n",
       "      <td>66</td>\n",
       "      <td>/Users/jskaf/Documents/Cours ECM 3A/CV/Clothes...</td>\n",
       "    </tr>\n",
       "    <tr>\n",
       "      <th>1086</th>\n",
       "      <td>/Users/jskaf/Documents/Cours ECM 3A/CV/Clothes...</td>\n",
       "      <td>201</td>\n",
       "      <td>564358023</td>\n",
       "      <td>252</td>\n",
       "      <td>1010010</td>\n",
       "      <td>73</td>\n",
       "      <td>5</td>\n",
       "      <td>2</td>\n",
       "      <td>3</td>\n",
       "      <td>20</td>\n",
       "      <td>1003</td>\n",
       "      <td>66</td>\n",
       "      <td>/Users/jskaf/Documents/Cours ECM 3A/CV/Clothes...</td>\n",
       "    </tr>\n",
       "    <tr>\n",
       "      <th>1087</th>\n",
       "      <td>/Users/jskaf/Documents/Cours ECM 3A/CV/Clothes...</td>\n",
       "      <td>201</td>\n",
       "      <td>399061012</td>\n",
       "      <td>262</td>\n",
       "      <td>1010023</td>\n",
       "      <td>72</td>\n",
       "      <td>2</td>\n",
       "      <td>2</td>\n",
       "      <td>1</td>\n",
       "      <td>19</td>\n",
       "      <td>1007</td>\n",
       "      <td>66</td>\n",
       "      <td>/Users/jskaf/Documents/Cours ECM 3A/CV/Clothes...</td>\n",
       "    </tr>\n",
       "  </tbody>\n",
       "</table>\n",
       "<p>1088 rows × 13 columns</p>\n",
       "</div>"
      ],
      "text/plain": [
       "                                                  image  cluster_x  \\\n",
       "0     /Users/jskaf/Documents/Cours ECM 3A/CV/Clothes...        201   \n",
       "1     /Users/jskaf/Documents/Cours ECM 3A/CV/Clothes...        201   \n",
       "2     /Users/jskaf/Documents/Cours ECM 3A/CV/Clothes...        201   \n",
       "3     /Users/jskaf/Documents/Cours ECM 3A/CV/Clothes...        201   \n",
       "4     /Users/jskaf/Documents/Cours ECM 3A/CV/Clothes...        201   \n",
       "...                                                 ...        ...   \n",
       "1083  /Users/jskaf/Documents/Cours ECM 3A/CV/Clothes...        201   \n",
       "1084  /Users/jskaf/Documents/Cours ECM 3A/CV/Clothes...        201   \n",
       "1085  /Users/jskaf/Documents/Cours ECM 3A/CV/Clothes...        201   \n",
       "1086  /Users/jskaf/Documents/Cours ECM 3A/CV/Clothes...        201   \n",
       "1087  /Users/jskaf/Documents/Cours ECM 3A/CV/Clothes...        201   \n",
       "\n",
       "      article_id  product_type_no  graphical_appearance_no  colour_group_code  \\\n",
       "0      745702004              265                  1010016                 19   \n",
       "1      739545001               59                  1010017                 72   \n",
       "2      573085057              272                  1010023                  9   \n",
       "3      606403004              252                  1010016                  9   \n",
       "4      293433043              304                  1010016                 43   \n",
       "...          ...              ...                      ...                ...   \n",
       "1083   613497006              297                  1010001                  9   \n",
       "1084   670698006              272                  1010016                 10   \n",
       "1085   623994002               87                  1010016                 51   \n",
       "1086   564358023              252                  1010010                 73   \n",
       "1087   399061012              262                  1010023                 72   \n",
       "\n",
       "      perceived_colour_value_id  perceived_colour_master_id  index_group_no  \\\n",
       "0                             2                          20               2   \n",
       "1                             1                           2               4   \n",
       "2                             4                           5               1   \n",
       "3                             4                           5               3   \n",
       "4                             4                          18               4   \n",
       "...                         ...                         ...             ...   \n",
       "1083                          4                           5               1   \n",
       "1084                          3                           9               2   \n",
       "1085                          1                           4               4   \n",
       "1086                          5                           2               3   \n",
       "1087                          2                           2               1   \n",
       "\n",
       "      section_no  garment_group_no  cluster_y  \\\n",
       "0             51              1002         66   \n",
       "1             44              1019         66   \n",
       "2             15              1009         66   \n",
       "3             23              1003         66   \n",
       "4             79              1021         66   \n",
       "...          ...               ...        ...   \n",
       "1083          62              1017         66   \n",
       "1084          53              1009         66   \n",
       "1085          42              1020         66   \n",
       "1086          20              1003         66   \n",
       "1087          19              1007         66   \n",
       "\n",
       "                                               img_name  \n",
       "0     /Users/jskaf/Documents/Cours ECM 3A/CV/Clothes...  \n",
       "1     /Users/jskaf/Documents/Cours ECM 3A/CV/Clothes...  \n",
       "2     /Users/jskaf/Documents/Cours ECM 3A/CV/Clothes...  \n",
       "3     /Users/jskaf/Documents/Cours ECM 3A/CV/Clothes...  \n",
       "4     /Users/jskaf/Documents/Cours ECM 3A/CV/Clothes...  \n",
       "...                                                 ...  \n",
       "1083  /Users/jskaf/Documents/Cours ECM 3A/CV/Clothes...  \n",
       "1084  /Users/jskaf/Documents/Cours ECM 3A/CV/Clothes...  \n",
       "1085  /Users/jskaf/Documents/Cours ECM 3A/CV/Clothes...  \n",
       "1086  /Users/jskaf/Documents/Cours ECM 3A/CV/Clothes...  \n",
       "1087  /Users/jskaf/Documents/Cours ECM 3A/CV/Clothes...  \n",
       "\n",
       "[1088 rows x 13 columns]"
      ]
     },
     "execution_count": 8,
     "metadata": {},
     "output_type": "execute_result"
    }
   ],
   "source": [
    "common_points"
   ]
  },
  {
   "cell_type": "code",
   "execution_count": 9,
   "metadata": {},
   "outputs": [
    {
     "name": "stderr",
     "output_type": "stream",
     "text": [
      "Using cache found in /Users/jskaf/.cache/torch/hub/pytorch_vision_v0.6.0\n",
      "/Users/jskaf/Documents/Cours ECM 3A/CV/Clothes-similarity/clothes_sim/lib/python3.9/site-packages/torchvision/models/_utils.py:208: UserWarning: The parameter 'pretrained' is deprecated since 0.13 and may be removed in the future, please use 'weights' instead.\n",
      "  warnings.warn(\n",
      "/Users/jskaf/Documents/Cours ECM 3A/CV/Clothes-similarity/clothes_sim/lib/python3.9/site-packages/torchvision/models/_utils.py:223: UserWarning: Arguments other than a weight enum or `None` for 'weights' are deprecated since 0.13 and may be removed in the future. The current behavior is equivalent to passing `weights=ResNet50_Weights.IMAGENET1K_V1`. You can also use `weights=ResNet50_Weights.DEFAULT` to get the most up-to-date weights.\n",
      "  warnings.warn(msg)\n"
     ]
    },
    {
     "name": "stdout",
     "output_type": "stream",
     "text": [
      "ResNet model loaded\n"
     ]
    }
   ],
   "source": [
    "#We want to use a resnet50 from torchvision to have the embedding of an image, use a pretrained resnet and remove the last layer\n",
    "\n",
    "class ResNet(nn.Module):\n",
    "    def __init__(self, num_classes=132):\n",
    "        super(ResNet, self).__init__()\n",
    "        self.resnet = torch.hub.load('pytorch/vision:v0.6.0', 'resnet50', pretrained=True)\n",
    "        self.resnet = nn.Sequential(*list(self.resnet.children())[:-1])\n",
    "        self.fc = nn.Linear(2048, num_classes)\n",
    "        self.resnet.eval()\n",
    "        for param in self.resnet.parameters():\n",
    "            param.requires_grad = False\n",
    "        for param in self.fc.parameters():\n",
    "            param.requires_grad = False\n",
    "\n",
    "    def forward(self, x):\n",
    "        return self.resnet(x)\n",
    "    \n",
    "resnet_model = ResNet()\n",
    "model_ft_path = 'models/resnet_finetuned_ft_1.pth'\n",
    "if os.path.exists(model_ft_path):\n",
    "    resnet_model.load_state_dict(torch.load(model_ft_path))\n",
    "    print('ResNet model loaded')\n",
    "else:\n",
    "    print('No fintuned model found, Resnet pretrained model will be used')\n",
    "\n",
    "preprocess = torchvision.models.ResNet50_Weights.IMAGENET1K_V2.transforms()"
   ]
  },
  {
   "cell_type": "code",
   "execution_count": 10,
   "metadata": {},
   "outputs": [],
   "source": [
    "#Load tabular data clustering model\n",
    "def load_tabular_model(model_path):\n",
    "    with open(model_path, 'rb') as f:\n",
    "        model = pickle.load(f)\n",
    "    return model\n",
    "\n",
    "#Load image data clustering model\n",
    "def load_image_clustering_model(model_path):\n",
    "    model = torch.load(model_path)\n",
    "    return model"
   ]
  },
  {
   "cell_type": "code",
   "execution_count": 11,
   "metadata": {},
   "outputs": [],
   "source": [
    "model_path_img = 'models/clustering_model_img_ft_1.pth'\n",
    "model_path_tab = 'models/kmeans_model_ft_1.pkl'\n",
    "scaler_path = 'models/scaler_ft_1.pkl'\n",
    "\n",
    "#Load image clustering model\n",
    "model_img = load_image_clustering_model(model_path_img)\n",
    "\n",
    "#Load tabular clustering model\n",
    "model_tab = load_tabular_model(model_path_tab)\n",
    "\n",
    "#Load scaler\n",
    "with open(scaler_path, 'rb') as f:\n",
    "    scaler = pickle.load(f)"
   ]
  },
  {
   "cell_type": "code",
   "execution_count": 12,
   "metadata": {},
   "outputs": [],
   "source": [
    "class ClusteringModel(nn.Module):\n",
    "    def __init__(self, embedding_size, num_clusters):\n",
    "        super(ClusteringModel, self).__init__()\n",
    "        self.num_embeddings = embedding_size\n",
    "        self.num_clusters = num_clusters\n",
    "        self.centers = nn.Parameter(torch.randn(num_clusters, embedding_size))\n",
    "\n",
    "    def forward(self, embeddings):\n",
    "        embeddings = embeddings.flatten(2).flatten(1)\n",
    "        # Compute the distance between each embedding and each cluster center\n",
    "        distances = torch.cdist(embeddings, self.centers)\n",
    "        # Assign each embedding to the closest cluster\n",
    "        assignments = torch.argmin(distances, dim=1)\n",
    "        return assignments\n",
    "    \n",
    "embedding_size = 2048\n",
    "num_clusters = 200\n",
    "model_img = ClusteringModel(embedding_size, num_clusters)"
   ]
  },
  {
   "cell_type": "code",
   "execution_count": 13,
   "metadata": {},
   "outputs": [
    {
     "name": "stderr",
     "output_type": "stream",
     "text": [
      "/Users/jskaf/Documents/Cours ECM 3A/CV/Clothes-similarity/clothes_sim/lib/python3.9/site-packages/sklearn/base.py:493: UserWarning: X does not have valid feature names, but StandardScaler was fitted with feature names\n",
      "  warnings.warn(\n"
     ]
    }
   ],
   "source": [
    "#Choose a random common point\n",
    "common_point = common_points.sample()\n",
    "\n",
    "#Get its cluster for tabular model\n",
    "\n",
    "common_point_tab = common_point.drop(['image'], axis=1)\n",
    "index_common_point = dataset.get_index_from_img_name(common_point['img_name'].values[0])\n",
    "point_tab = df.iloc[index_common_point]\n",
    "point_tab = scaler.transform(point_tab.to_numpy().reshape(1, -1))\n",
    "point_tab_cluster = model_tab.predict(point_tab)\n",
    "\n",
    "#Get its cluster for image model\n",
    "\n",
    "common_point_img = common_point.drop(['image'], axis=1)\n",
    "index_common_point = dataset.get_index_from_img_name(common_point['img_name'].values[0])\n",
    "point_img = dataset[index_common_point][0].unsqueeze(0)\n",
    "point_img = preprocess(point_img)\n",
    "point_img = resnet_model(point_img)\n",
    "#checker sur les dims\n",
    "point_img_cluster = model_img(point_img)\n"
   ]
  },
  {
   "cell_type": "code",
   "execution_count": 14,
   "metadata": {},
   "outputs": [],
   "source": [
    "#get all the points in the same cluster for tabular model\n",
    "tabs_cluster = train_tab_csv[train_tab_csv['cluster'] == point_tab_cluster[0].item()]\n",
    "\n",
    "#get all the points in the same cluster for image model\n",
    "imgs_cluster = train_img_csv[train_img_csv['cluster'] == point_img_cluster[0].item()]"
   ]
  },
  {
   "cell_type": "code",
   "execution_count": 15,
   "metadata": {},
   "outputs": [
    {
     "data": {
      "text/plain": [
       "0.0"
      ]
     },
     "execution_count": 15,
     "metadata": {},
     "output_type": "execute_result"
    }
   ],
   "source": [
    "#calculate jaccard similarity\n",
    "\n",
    "def jaccard_similarity(list1, list2):\n",
    "    s1 = set(list1)\n",
    "    s2 = set(list2)\n",
    "    return len(s1.intersection(s2)) / len(s1.union(s2))\n",
    "\n",
    "jaccard_similarity(tabs_cluster['img_name'], imgs_cluster['image'])"
   ]
  },
  {
   "cell_type": "code",
   "execution_count": 16,
   "metadata": {},
   "outputs": [
    {
     "data": {
      "text/html": [
       "<div>\n",
       "<style scoped>\n",
       "    .dataframe tbody tr th:only-of-type {\n",
       "        vertical-align: middle;\n",
       "    }\n",
       "\n",
       "    .dataframe tbody tr th {\n",
       "        vertical-align: top;\n",
       "    }\n",
       "\n",
       "    .dataframe thead th {\n",
       "        text-align: right;\n",
       "    }\n",
       "</style>\n",
       "<table border=\"1\" class=\"dataframe\">\n",
       "  <thead>\n",
       "    <tr style=\"text-align: right;\">\n",
       "      <th></th>\n",
       "      <th>image</th>\n",
       "      <th>cluster</th>\n",
       "    </tr>\n",
       "  </thead>\n",
       "  <tbody>\n",
       "  </tbody>\n",
       "</table>\n",
       "</div>"
      ],
      "text/plain": [
       "Empty DataFrame\n",
       "Columns: [image, cluster]\n",
       "Index: []"
      ]
     },
     "execution_count": 16,
     "metadata": {},
     "output_type": "execute_result"
    }
   ],
   "source": [
    "imgs_cluster"
   ]
  },
  {
   "cell_type": "code",
   "execution_count": 17,
   "metadata": {},
   "outputs": [],
   "source": [
    "#get index using get_index_from_img_name\n",
    "\n",
    "index_tab = [dataset.get_index_from_img_name(img_name) for img_name in tabs_cluster['img_name']]\n",
    "index_img = [dataset.get_index_from_img_name(img_name) for img_name in imgs_cluster['image']]\n",
    "\n",
    "#Get the images and tabular data\n",
    "\n",
    "imgs = [dataset[i][0] for i in index_img]\n",
    "tabs = [df.iloc[i] for i in index_tab]\n"
   ]
  },
  {
   "cell_type": "code",
   "execution_count": 18,
   "metadata": {},
   "outputs": [],
   "source": [
    "#Do a KNN for the common point on the tabular data\n",
    "\n",
    "from sklearn.neighbors import NearestNeighbors\n",
    "\n",
    "neigh = NearestNeighbors(n_neighbors=5)\n",
    "neigh.fit(tabs)\n",
    "distances, indices = neigh.kneighbors(point_tab, 5)\n",
    "\n",
    "#Get the images corresponding to the indices\n",
    "if len(index_tab) > 1:\n",
    "    imgs_knn_tab = [dataset[index_tab[i]][0] for i in indices[0]]\n",
    "else:\n",
    "    print('No similar images found')"
   ]
  },
  {
   "cell_type": "code",
   "execution_count": 19,
   "metadata": {},
   "outputs": [
    {
     "name": "stdout",
     "output_type": "stream",
     "text": [
      "No similar images found\n",
      "No similar images found\n"
     ]
    }
   ],
   "source": [
    "#Do a KNN for the common point on the image data\n",
    "\n",
    "#transform the images into their resnet embeddings\n",
    "\n",
    "imgs = [preprocess(img) for img in imgs]\n",
    "imgs = [resnet_model(img.unsqueeze(0)) for img in imgs]\n",
    "imgs = [img.detach().numpy() for img in imgs]\n",
    "imgs = [img.flatten(2).flatten(1) for img in imgs]\n",
    "imgs = np.array(imgs)\n",
    "\n",
    "if len(imgs) > 1:\n",
    "    neigh = NearestNeighbors(n_neighbors=5)\n",
    "    neigh.fit(imgs)\n",
    "    distances, indices = neigh.kneighbors(point_img.detach().numpy(), 5)\n",
    "else:\n",
    "    print('No similar images found')\n",
    "\n",
    "#Get the images corresponding to the indices\n",
    "\n",
    "if len(index_img) > 1:\n",
    "    imgs_knn_img = [dataset[index_img[i]][0] for i in indices[0]]\n",
    "else:\n",
    "    print('No similar images found')\n"
   ]
  },
  {
   "cell_type": "code",
   "execution_count": 20,
   "metadata": {},
   "outputs": [],
   "source": [
    "#Get the image of the common point\n",
    "img = dataset[dataset.get_index_from_img_name(common_point['img_name'].values[0])][0].squeeze(0)"
   ]
  },
  {
   "cell_type": "code",
   "execution_count": 21,
   "metadata": {},
   "outputs": [
    {
     "name": "stderr",
     "output_type": "stream",
     "text": [
      "Clipping input data to the valid range for imshow with RGB data ([0..1] for floats or [0..255] for integers).\n",
      "Clipping input data to the valid range for imshow with RGB data ([0..1] for floats or [0..255] for integers).\n",
      "Clipping input data to the valid range for imshow with RGB data ([0..1] for floats or [0..255] for integers).\n",
      "Clipping input data to the valid range for imshow with RGB data ([0..1] for floats or [0..255] for integers).\n",
      "Clipping input data to the valid range for imshow with RGB data ([0..1] for floats or [0..255] for integers).\n",
      "Clipping input data to the valid range for imshow with RGB data ([0..1] for floats or [0..255] for integers).\n"
     ]
    },
    {
     "data": {
      "image/png": "[encoded data removed]",
      "text/plain": [
       "<Figure size 2000x2000 with 6 Axes>"
      ]
     },
     "metadata": {},
     "output_type": "display_data"
    }
   ],
   "source": [
    "#Plot the images\n",
    "\n",
    "import matplotlib.pyplot as plt\n",
    "\n",
    "fig, axs = plt.subplots(1, 6, figsize=(20, 20))\n",
    "#plot the common point image\n",
    "axs[0].imshow(img.permute(1, 2, 0))\n",
    "#plot the tabular data images knn\n",
    "for i, img in enumerate(imgs_knn_tab):\n",
    "    axs[i+1].imshow(img.permute(1, 2, 0))\n",
    "    axs[i+1].axis('off')\n",
    "plt.show()"
   ]
  },
  {
   "cell_type": "code",
   "execution_count": 22,
   "metadata": {},
   "outputs": [
    {
     "name": "stdout",
     "output_type": "stream",
     "text": [
      "No similar images found\n"
     ]
    }
   ],
   "source": [
    "#Plot the images\n",
    "if len(index_img) > 1:\n",
    "    fig, axs = plt.subplots(1, 6, figsize=(20, 20))\n",
    "    #plot the common point image\n",
    "    axs[0].imshow(img.permute(1, 2, 0))\n",
    "    #plot the img data images knn\n",
    "    for i, img in enumerate(imgs_knn_img):\n",
    "        axs[i].imshow(img)\n",
    "        axs[i].axis('off')\n",
    "    plt.show()\n",
    "else:\n",
    "    print('No similar images found')"
   ]
  }
 ],
 "metadata": {
  "kernelspec": {
   "display_name": "base",
   "language": "python",
   "name": "python3"
  },
  "language_info": {
   "codemirror_mode": {
    "name": "ipython",
    "version": 3
   },
   "file_extension": ".py",
   "mimetype": "text/x-python",
   "name": "python",
   "nbconvert_exporter": "python",
   "pygments_lexer": "ipython3",
   "version": "3.9.6"
  }
 },
 "nbformat": 4,
 "nbformat_minor": 2
}
