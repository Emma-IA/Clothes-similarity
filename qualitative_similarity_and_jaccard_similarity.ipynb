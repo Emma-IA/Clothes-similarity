{
 "cells": [
  {
   "cell_type": "code",
   "execution_count": null,
   "metadata": {},
   "outputs": [],
   "source": [
    "import pandas as pd\n",
    "import torch \n",
    "import pickle\n",
    "from torch import nn\n",
    "import torchvision\n",
    "import numpy as np\n",
    "from torch.utils.data import Dataset, DataLoader\n",
    "import os"
   ]
  },
  {
   "cell_type": "code",
   "execution_count": null,
   "metadata": {},
   "outputs": [],
   "source": [
    "train_img_csv = pd.read_csv('train_predictions_img.csv')\n",
    "train_txt_csv = pd.read_csv('train_predictions_txt.csv')\n",
    "train_csv_tab = pd.read_csv('train_hm_tab_cluster.csv')\n",
    "test_img_csv = pd.read_csv('test_predictions_img.csv')"
   ]
  },
  {
   "cell_type": "code",
   "execution_count": null,
   "metadata": {},
   "outputs": [],
   "source": [
    "df = pd.read_csv('data/h&mdataset/articles.csv')\n",
    "df = df.drop(columns=['article_id','prod_name','product_code','product_type_no','department_no', 'index_code', \t\n",
    "       'product_type_name', 'product_group_name',\n",
    "       'graphical_appearance_name', 'colour_group_name', 'perceived_colour_value_name', 'perceived_colour_master_name', 'department_name', 'index_name', 'index_group_name', 'section_name', 'garment_group_name', 'detail_desc'])"
   ]
  },
  {
   "cell_type": "code",
   "execution_count": null,
   "metadata": {},
   "outputs": [],
   "source": [
    "from dataset import myDataset\n",
    "\n",
    "get_preprocessed_image = True\n",
    "train_test_split = 0.9\n",
    "my_path_hm = os.path.join(os.getcwd(), 'data/h&mdataset/images/')\n",
    "my_path_fash = os.path.join(os.getcwd(), 'data/fashion-dataset/images/')\n",
    "\n",
    "dataset = myDataset(my_path_hm, my_path_fash, get_preprocessed_image, 'hm')"
   ]
  },
  {
   "cell_type": "code",
   "execution_count": null,
   "metadata": {},
   "outputs": [],
   "source": [
    "#find common points in test img and tab\n",
    "\n",
    "common_points = pd.merge(test_img_csv, train_csv_tab, on=['image', 'img_name'], how='inner')"
   ]
  },
  {
   "cell_type": "code",
   "execution_count": null,
   "metadata": {},
   "outputs": [],
   "source": [
    "class ResNet(nn.Module):\n",
    "    def __init__(self):\n",
    "        super(ResNet, self).__init__()\n",
    "        self.resnet = torch.hub.load('pytorch/vision:v0.6.0', 'resnet50', pretrained=True)\n",
    "        self.resnet = nn.Sequential(*list(self.resnet.children())[:-1])\n",
    "        self.resnet.eval()\n",
    "        for param in self.resnet.parameters():\n",
    "            param.requires_grad = False\n",
    "\n",
    "    def forward(self, x):\n",
    "        return self.resnet(x)\n",
    "    \n",
    "resnet_model = ResNet()\n",
    "preprocess = torchvision.models.ResNet50_Weights.IMAGENET1K_V2.transforms()"
   ]
  },
  {
   "cell_type": "code",
   "execution_count": null,
   "metadata": {},
   "outputs": [],
   "source": [
    "#Load tabular data clustering model\n",
    "def load_tabular_model(model_path):\n",
    "    with open(model_path, 'rb') as f:\n",
    "        model = pickle.load(f)\n",
    "    return model\n",
    "\n",
    "#Load image data clustering model\n",
    "def load_image_clustering_model(model_path):\n",
    "    model = torch.load(model_path)\n",
    "    return model"
   ]
  },
  {
   "cell_type": "code",
   "execution_count": null,
   "metadata": {},
   "outputs": [],
   "source": [
    "model_path_img = 'models/image_clustering_model.pth'\n",
    "model_path_tab = 'models/kmeans_model.pkl'\n",
    "scaler_path = 'models/scaler.pkl'\n",
    "\n",
    "#Load image clustering model\n",
    "model_img = load_image_clustering_model(model_path_img)\n",
    "\n",
    "#Load tabular clustering model\n",
    "model_tab = load_tabular_model(model_path_tab)\n",
    "\n",
    "#Load scaler\n",
    "with open(scaler_path, 'rb') as f:\n",
    "    scaler = pickle.load(f)"
   ]
  },
  {
   "cell_type": "code",
   "execution_count": null,
   "metadata": {},
   "outputs": [],
   "source": [
    "#Choose a random common point\n",
    "common_point = common_points.sample()\n",
    "\n",
    "#Get its cluster for tabular model\n",
    "\n",
    "common_point_tab = common_point.drop(['image'], axis=1)\n",
    "index_common_point = dataset.get_index_from_img_name(common_point['img_name'].values[0])\n",
    "point_tab = df.iloc[index_common_point]\n",
    "point_tab = scaler.transform(point_tab)\n",
    "point_tab_cluster = model_tab.predict(point_tab)\n",
    "\n",
    "#Get its cluster for image model\n",
    "\n",
    "common_point_img = common_point.drop(['image'], axis=1)\n",
    "index_common_point = dataset.get_index_from_img_name(common_point['img_name'].values[0])\n",
    "point_img = dataset[index_common_point][0].unsqueeze(0)\n",
    "point_img = preprocess(point_img)\n",
    "point_img = resnet_model(point_img)\n",
    "#checker sur les dims\n",
    "point_img_cluster = model_img.predict(point_img)\n"
   ]
  },
  {
   "cell_type": "code",
   "execution_count": null,
   "metadata": {},
   "outputs": [],
   "source": [
    "#get all the points in the same cluster for tabular model\n",
    "tabs_cluster = train_csv_tab[train_csv_tab['cluster'] == point_tab_cluster[0]]\n",
    "\n",
    "#get all the points in the same cluster for image model\n",
    "imgs_cluster = train_img_csv[train_img_csv['cluster'] == point_img_cluster[0]]"
   ]
  },
  {
   "cell_type": "code",
   "execution_count": null,
   "metadata": {},
   "outputs": [],
   "source": [
    "#calculate jaccard similarity\n",
    "\n",
    "def jaccard_similarity(list1, list2):\n",
    "    s1 = set(list1)\n",
    "    s2 = set(list2)\n",
    "    return len(s1.intersection(s2)) / len(s1.union(s2))\n",
    "\n",
    "jaccard_similarity(tabs_cluster['img_name'], imgs_cluster['img_name'])"
   ]
  },
  {
   "cell_type": "code",
   "execution_count": null,
   "metadata": {},
   "outputs": [],
   "source": [
    "#get index using get_index_from_img_name\n",
    "\n",
    "index_tab = [dataset.get_index_from_img_name(img_name) for img_name in tabs_cluster['img_name']]\n",
    "index_img = [dataset.get_index_from_img_name(img_name) for img_name in imgs_cluster['img_name']]\n",
    "\n",
    "#Get the images and tabular data\n",
    "\n",
    "imgs = [dataset[i][0] for i in index_img]\n",
    "tabs = [df.iloc[i] for i in index_tab]\n"
   ]
  },
  {
   "cell_type": "code",
   "execution_count": null,
   "metadata": {},
   "outputs": [],
   "source": [
    "#Do a KNN for the common point on the tabular data\n",
    "\n",
    "from sklearn.neighbors import NearestNeighbors\n",
    "\n",
    "neigh = NearestNeighbors(n_neighbors=5)\n",
    "neigh.fit(tabs)\n",
    "distances, indices = neigh.kneighbors(point_tab, 5)\n",
    "\n",
    "#Get the images corresponding to the indices\n",
    "\n",
    "imgs_knn_tab = [dataset[index_img[i]][0] for i in indices[0]]"
   ]
  },
  {
   "cell_type": "code",
   "execution_count": null,
   "metadata": {},
   "outputs": [],
   "source": [
    "#Do a KNN for the common point on the image data\n",
    "\n",
    "#transform the images into their resnet embeddings\n",
    "\n",
    "imgs = [preprocess(img) for img in imgs]\n",
    "imgs = [resnet_model(img.unsqueeze(0)) for img in imgs]\n",
    "imgs = [img.detach().numpy() for img in imgs]\n",
    "\n",
    "neigh = NearestNeighbors(n_neighbors=5)\n",
    "neigh.fit(imgs)\n",
    "distances, indices = neigh.kneighbors(point_img.detach().numpy(), 5)\n",
    "\n",
    "#Get the images corresponding to the indices\n",
    "\n",
    "imgs_knn_img = [dataset[index_img[i]][0] for i in indices[0]]\n"
   ]
  },
  {
   "cell_type": "code",
   "execution_count": null,
   "metadata": {},
   "outputs": [],
   "source": [
    "#Plot the images\n",
    "\n",
    "import matplotlib.pyplot as plt\n",
    "\n",
    "fig, axs = plt.subplots(1, 5, figsize=(20, 20))\n",
    "for i, img in enumerate(imgs_knn_tab):\n",
    "    axs[i].imshow(img)\n",
    "    axs[i].axis('off')\n",
    "plt.show()"
   ]
  },
  {
   "cell_type": "code",
   "execution_count": null,
   "metadata": {},
   "outputs": [],
   "source": [
    "#Plot the images\n",
    "\n",
    "fig, axs = plt.subplots(1, 5, figsize=(20, 20))\n",
    "for i, img in enumerate(imgs_knn_img):\n",
    "    axs[i].imshow(img)\n",
    "    axs[i].axis('off')\n",
    "plt.show()"
   ]
  }
 ],
 "metadata": {
  "kernelspec": {
   "display_name": "base",
   "language": "python",
   "name": "python3"
  },
  "language_info": {
   "name": "python",
   "version": "3.11.6"
  }
 },
 "nbformat": 4,
 "nbformat_minor": 2
}
