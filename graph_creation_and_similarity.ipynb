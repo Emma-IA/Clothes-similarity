{
 "cells": [
  {
   "cell_type": "code",
   "execution_count": 1,
   "metadata": {},
   "outputs": [],
   "source": [
    "#Load clustering models for tabular and image data\n",
    "\n",
    "import os\n",
    "import numpy as np\n",
    "import pandas as pd\n",
    "import pickle\n",
    "import torch\n",
    "from tqdm import tqdm\n",
    "import torch.nn as nn\n",
    "import networkx as nx\n",
    "#Svd from scipy for sparse matrix\n",
    "from scipy.sparse.linalg import svds"
   ]
  },
  {
   "cell_type": "code",
   "execution_count": 2,
   "metadata": {},
   "outputs": [],
   "source": [
    "#Disable warnings\n",
    "import warnings\n",
    "warnings.filterwarnings('ignore')\n"
   ]
  },
  {
   "cell_type": "code",
   "execution_count": 3,
   "metadata": {},
   "outputs": [],
   "source": [
    "#Load tabular data clustering model using joblib\n",
    "def load_tabular_model(model_path):\n",
    "    with open(model_path, 'rb') as f:\n",
    "        model = pickle.load(f)\n",
    "    return model\n",
    "\n",
    "#Load image data clustering model\n",
    "def load_image_clustering_model(model_path):\n",
    "    model = torch.load(model_path)\n",
    "    return model"
   ]
  },
  {
   "cell_type": "code",
   "execution_count": 4,
   "metadata": {},
   "outputs": [],
   "source": [
    "model_path_img = 'models/clustering_model_img_ft_1.pth'\n",
    "model_path_tab = 'models/kmeans_model_ft_1.pkl'\n",
    "scaler_path = 'models/scaler_ft_1.pkl'\n",
    "\n",
    "#Load image clustering model\n",
    "model_img = load_image_clustering_model(model_path_img)\n",
    "\n",
    "#Load tabular clustering model\n",
    "model_tab = load_tabular_model(model_path_tab)\n",
    "\n",
    "#Load scaler\n",
    "with open(scaler_path, 'rb') as f:\n",
    "    scaler = pickle.load(f)"
   ]
  },
  {
   "cell_type": "code",
   "execution_count": 5,
   "metadata": {},
   "outputs": [],
   "source": [
    "G_tab = nx.Graph()\n",
    "G_img = nx.Graph()"
   ]
  },
  {
   "cell_type": "code",
   "execution_count": 6,
   "metadata": {},
   "outputs": [],
   "source": [
    "df = pd.read_csv('train_hm_tab_cluster.csv')"
   ]
  },
  {
   "cell_type": "code",
   "execution_count": 7,
   "metadata": {},
   "outputs": [
    {
     "data": {
      "text/html": [
       "<div>\n",
       "<style scoped>\n",
       "    .dataframe tbody tr th:only-of-type {\n",
       "        vertical-align: middle;\n",
       "    }\n",
       "\n",
       "    .dataframe tbody tr th {\n",
       "        vertical-align: top;\n",
       "    }\n",
       "\n",
       "    .dataframe thead th {\n",
       "        text-align: right;\n",
       "    }\n",
       "</style>\n",
       "<table border=\"1\" class=\"dataframe\">\n",
       "  <thead>\n",
       "    <tr style=\"text-align: right;\">\n",
       "      <th></th>\n",
       "      <th>Unnamed: 0</th>\n",
       "      <th>article_id</th>\n",
       "      <th>product_type_no</th>\n",
       "      <th>graphical_appearance_no</th>\n",
       "      <th>colour_group_code</th>\n",
       "      <th>perceived_colour_value_id</th>\n",
       "      <th>perceived_colour_master_id</th>\n",
       "      <th>index_group_no</th>\n",
       "      <th>section_no</th>\n",
       "      <th>garment_group_no</th>\n",
       "      <th>cluster</th>\n",
       "      <th>img_name</th>\n",
       "    </tr>\n",
       "  </thead>\n",
       "  <tbody>\n",
       "    <tr>\n",
       "      <th>0</th>\n",
       "      <td>58344</td>\n",
       "      <td>719601001</td>\n",
       "      <td>254</td>\n",
       "      <td>1010010</td>\n",
       "      <td>7</td>\n",
       "      <td>1</td>\n",
       "      <td>12</td>\n",
       "      <td>1</td>\n",
       "      <td>2</td>\n",
       "      <td>1005</td>\n",
       "      <td>396</td>\n",
       "      <td>071/0719601001.jpg</td>\n",
       "    </tr>\n",
       "    <tr>\n",
       "      <th>1</th>\n",
       "      <td>14767</td>\n",
       "      <td>564312010</td>\n",
       "      <td>286</td>\n",
       "      <td>1010001</td>\n",
       "      <td>72</td>\n",
       "      <td>2</td>\n",
       "      <td>2</td>\n",
       "      <td>3</td>\n",
       "      <td>26</td>\n",
       "      <td>1017</td>\n",
       "      <td>334</td>\n",
       "      <td>056/0564312010.jpg</td>\n",
       "    </tr>\n",
       "    <tr>\n",
       "      <th>2</th>\n",
       "      <td>15689</td>\n",
       "      <td>567739002</td>\n",
       "      <td>262</td>\n",
       "      <td>1010016</td>\n",
       "      <td>73</td>\n",
       "      <td>4</td>\n",
       "      <td>2</td>\n",
       "      <td>4</td>\n",
       "      <td>45</td>\n",
       "      <td>1007</td>\n",
       "      <td>11</td>\n",
       "      <td>056/0567739002.jpg</td>\n",
       "    </tr>\n",
       "    <tr>\n",
       "      <th>3</th>\n",
       "      <td>37069</td>\n",
       "      <td>652418002</td>\n",
       "      <td>304</td>\n",
       "      <td>1010016</td>\n",
       "      <td>51</td>\n",
       "      <td>3</td>\n",
       "      <td>4</td>\n",
       "      <td>4</td>\n",
       "      <td>79</td>\n",
       "      <td>1021</td>\n",
       "      <td>332</td>\n",
       "      <td>065/0652418002.jpg</td>\n",
       "    </tr>\n",
       "    <tr>\n",
       "      <th>4</th>\n",
       "      <td>19199</td>\n",
       "      <td>582789004</td>\n",
       "      <td>265</td>\n",
       "      <td>1010016</td>\n",
       "      <td>63</td>\n",
       "      <td>4</td>\n",
       "      <td>6</td>\n",
       "      <td>1</td>\n",
       "      <td>18</td>\n",
       "      <td>1003</td>\n",
       "      <td>386</td>\n",
       "      <td>058/0582789004.jpg</td>\n",
       "    </tr>\n",
       "    <tr>\n",
       "      <th>...</th>\n",
       "      <td>...</td>\n",
       "      <td>...</td>\n",
       "      <td>...</td>\n",
       "      <td>...</td>\n",
       "      <td>...</td>\n",
       "      <td>...</td>\n",
       "      <td>...</td>\n",
       "      <td>...</td>\n",
       "      <td>...</td>\n",
       "      <td>...</td>\n",
       "      <td>...</td>\n",
       "      <td>...</td>\n",
       "    </tr>\n",
       "    <tr>\n",
       "      <th>7995</th>\n",
       "      <td>21427</td>\n",
       "      <td>594177005</td>\n",
       "      <td>272</td>\n",
       "      <td>1010016</td>\n",
       "      <td>51</td>\n",
       "      <td>1</td>\n",
       "      <td>4</td>\n",
       "      <td>4</td>\n",
       "      <td>44</td>\n",
       "      <td>1002</td>\n",
       "      <td>31</td>\n",
       "      <td>059/0594177005.jpg</td>\n",
       "    </tr>\n",
       "    <tr>\n",
       "      <th>7996</th>\n",
       "      <td>3984</td>\n",
       "      <td>472064011</td>\n",
       "      <td>256</td>\n",
       "      <td>1010001</td>\n",
       "      <td>6</td>\n",
       "      <td>1</td>\n",
       "      <td>12</td>\n",
       "      <td>4</td>\n",
       "      <td>44</td>\n",
       "      <td>1002</td>\n",
       "      <td>378</td>\n",
       "      <td>047/0472064011.jpg</td>\n",
       "    </tr>\n",
       "    <tr>\n",
       "      <th>7997</th>\n",
       "      <td>46517</td>\n",
       "      <td>686022001</td>\n",
       "      <td>87</td>\n",
       "      <td>1010016</td>\n",
       "      <td>9</td>\n",
       "      <td>4</td>\n",
       "      <td>5</td>\n",
       "      <td>1</td>\n",
       "      <td>64</td>\n",
       "      <td>1020</td>\n",
       "      <td>188</td>\n",
       "      <td>068/0686022001.jpg</td>\n",
       "    </tr>\n",
       "    <tr>\n",
       "      <th>7998</th>\n",
       "      <td>34435</td>\n",
       "      <td>641855001</td>\n",
       "      <td>302</td>\n",
       "      <td>1010016</td>\n",
       "      <td>10</td>\n",
       "      <td>3</td>\n",
       "      <td>9</td>\n",
       "      <td>4</td>\n",
       "      <td>79</td>\n",
       "      <td>1021</td>\n",
       "      <td>315</td>\n",
       "      <td>064/0641855001.jpg</td>\n",
       "    </tr>\n",
       "    <tr>\n",
       "      <th>7999</th>\n",
       "      <td>93192</td>\n",
       "      <td>857227002</td>\n",
       "      <td>265</td>\n",
       "      <td>1010001</td>\n",
       "      <td>9</td>\n",
       "      <td>4</td>\n",
       "      <td>5</td>\n",
       "      <td>1</td>\n",
       "      <td>11</td>\n",
       "      <td>1013</td>\n",
       "      <td>185</td>\n",
       "      <td>085/0857227002.jpg</td>\n",
       "    </tr>\n",
       "  </tbody>\n",
       "</table>\n",
       "<p>8000 rows × 12 columns</p>\n",
       "</div>"
      ],
      "text/plain": [
       "      Unnamed: 0  article_id  product_type_no  graphical_appearance_no  \\\n",
       "0          58344   719601001              254                  1010010   \n",
       "1          14767   564312010              286                  1010001   \n",
       "2          15689   567739002              262                  1010016   \n",
       "3          37069   652418002              304                  1010016   \n",
       "4          19199   582789004              265                  1010016   \n",
       "...          ...         ...              ...                      ...   \n",
       "7995       21427   594177005              272                  1010016   \n",
       "7996        3984   472064011              256                  1010001   \n",
       "7997       46517   686022001               87                  1010016   \n",
       "7998       34435   641855001              302                  1010016   \n",
       "7999       93192   857227002              265                  1010001   \n",
       "\n",
       "      colour_group_code  perceived_colour_value_id  \\\n",
       "0                     7                          1   \n",
       "1                    72                          2   \n",
       "2                    73                          4   \n",
       "3                    51                          3   \n",
       "4                    63                          4   \n",
       "...                 ...                        ...   \n",
       "7995                 51                          1   \n",
       "7996                  6                          1   \n",
       "7997                  9                          4   \n",
       "7998                 10                          3   \n",
       "7999                  9                          4   \n",
       "\n",
       "      perceived_colour_master_id  index_group_no  section_no  \\\n",
       "0                             12               1           2   \n",
       "1                              2               3          26   \n",
       "2                              2               4          45   \n",
       "3                              4               4          79   \n",
       "4                              6               1          18   \n",
       "...                          ...             ...         ...   \n",
       "7995                           4               4          44   \n",
       "7996                          12               4          44   \n",
       "7997                           5               1          64   \n",
       "7998                           9               4          79   \n",
       "7999                           5               1          11   \n",
       "\n",
       "      garment_group_no  cluster            img_name  \n",
       "0                 1005      396  071/0719601001.jpg  \n",
       "1                 1017      334  056/0564312010.jpg  \n",
       "2                 1007       11  056/0567739002.jpg  \n",
       "3                 1021      332  065/0652418002.jpg  \n",
       "4                 1003      386  058/0582789004.jpg  \n",
       "...                ...      ...                 ...  \n",
       "7995              1002       31  059/0594177005.jpg  \n",
       "7996              1002      378  047/0472064011.jpg  \n",
       "7997              1020      188  068/0686022001.jpg  \n",
       "7998              1021      315  064/0641855001.jpg  \n",
       "7999              1013      185  085/0857227002.jpg  \n",
       "\n",
       "[8000 rows x 12 columns]"
      ]
     },
     "execution_count": 7,
     "metadata": {},
     "output_type": "execute_result"
    }
   ],
   "source": [
    "df"
   ]
  },
  {
   "cell_type": "code",
   "execution_count": 8,
   "metadata": {},
   "outputs": [
    {
     "name": "stdout",
     "output_type": "stream",
     "text": [
      "Skipping .DS_Store as it is not a jpg file\n"
     ]
    }
   ],
   "source": [
    "from dataset import myDataset\n",
    "from torch.utils.data import DataLoader\n",
    "\n",
    "get_preprocessed_image = True\n",
    "batch_size = 64\n",
    "train_test_split = 0.9\n",
    "my_path_hm = os.path.join(os.getcwd(), 'data/h&mdataset/images/')\n",
    "my_path_fash = os.path.join(os.getcwd(), 'data/fashion-dataset/images/')\n",
    "\n",
    "dataset = myDataset(my_path_hm, my_path_fash, get_preprocessed_image, 'hm')\n",
    "dataloader = DataLoader(dataset, batch_size=batch_size, shuffle=False, num_workers=10)"
   ]
  },
  {
   "cell_type": "code",
   "execution_count": 9,
   "metadata": {},
   "outputs": [
    {
     "name": "stdout",
     "output_type": "stream",
     "text": [
      "Skipping .DS_Store as it is not a jpg file\n"
     ]
    }
   ],
   "source": [
    "get_preprocessed_image = True\n",
    "train_test_split = 0.9\n",
    "my_path_hm = os.path.join(os.getcwd(), 'data/h&mdataset/images/')\n",
    "my_path_fash = os.path.join(os.getcwd(), 'data/fashion-dataset/images/')\n",
    "\n",
    "dataset = myDataset(my_path_hm, my_path_fash, get_preprocessed_image, 'hm')\n",
    "\n",
    "#Get the indices from the file\n",
    "train_subset_indices = torch.load('data/h&mdataset/train_subset_indices.pt')\n",
    "val_subset_indices = torch.load('data/h&mdataset/val_subset_indices.pt')\n",
    "test_subset_indices = torch.load('data/h&mdataset/test_subset_indices.pt')\n",
    "\n",
    "test_subset_indices = torch.cat((test_subset_indices, val_subset_indices), 0)\n",
    "\n",
    "train_dataset = torch.utils.data.Subset(dataset, train_subset_indices)\n",
    "test_dataset = torch.utils.data.Subset(dataset, test_subset_indices)\n",
    "\n",
    "dataloader = DataLoader(train_dataset, batch_size=batch_size, shuffle=False, num_workers=10)"
   ]
  },
  {
   "cell_type": "code",
   "execution_count": 10,
   "metadata": {},
   "outputs": [
    {
     "name": "stderr",
     "output_type": "stream",
     "text": [
      "100%|██████████| 400/400 [00:00<00:00, 864359.40it/s]\n"
     ]
    }
   ],
   "source": [
    "#Add first the cluster nodes\n",
    "clusters = df['cluster'].unique()\n",
    "\n",
    "for cluster in tqdm(clusters):\n",
    "    G_tab.add_node(cluster, type='cluster')"
   ]
  },
  {
   "cell_type": "code",
   "execution_count": 11,
   "metadata": {},
   "outputs": [
    {
     "name": "stderr",
     "output_type": "stream",
     "text": [
      "100%|██████████| 8000/8000 [00:00<00:00, 105166.53it/s]\n"
     ]
    }
   ],
   "source": [
    "#Add the article nodes\n",
    "for i in tqdm(range(len(df))):\n",
    "    name_article = df['img_name'].iloc[i]\n",
    "    G_tab.add_node(name_article, type='article', cluster=df['cluster'].iloc[i])"
   ]
  },
  {
   "cell_type": "code",
   "execution_count": 12,
   "metadata": {},
   "outputs": [
    {
     "name": "stderr",
     "output_type": "stream",
     "text": [
      "100%|██████████| 8000/8000 [00:00<00:00, 110420.73it/s]\n"
     ]
    }
   ],
   "source": [
    "#Add the edges\n",
    "for i in tqdm(range(len(df))):\n",
    "    name_article = df['img_name'].iloc[i]\n",
    "    cluster = df['cluster'].iloc[i]\n",
    "    G_tab.add_edge(cluster, name_article)"
   ]
  },
  {
   "cell_type": "code",
   "execution_count": 13,
   "metadata": {},
   "outputs": [
    {
     "name": "stdout",
     "output_type": "stream",
     "text": [
      "Using MPS\n"
     ]
    }
   ],
   "source": [
    "if torch.cuda.is_available():\n",
    "    device = torch.device('cuda')\n",
    "    print('Using CUDA')\n",
    "elif torch.backends.mps.is_available():\n",
    "    device = torch.device('mps')\n",
    "    print('Using MPS')\n",
    "else :\n",
    "    device = torch.device('cpu')\n",
    "    print('Using CPU')"
   ]
  },
  {
   "cell_type": "code",
   "execution_count": 14,
   "metadata": {},
   "outputs": [
    {
     "name": "stderr",
     "output_type": "stream",
     "text": [
      "100%|██████████| 200/200 [00:00<00:00, 876552.56it/s]\n"
     ]
    }
   ],
   "source": [
    "#Add first the cluster nodes\n",
    "num_clusers = 200\n",
    "\n",
    "for cluster in tqdm(range(num_clusers)):\n",
    "    G_img.add_node(cluster, type='cluster')"
   ]
  },
  {
   "cell_type": "code",
   "execution_count": 15,
   "metadata": {},
   "outputs": [],
   "source": [
    "df_img = pd.read_csv('train_predictions_img.csv')"
   ]
  },
  {
   "cell_type": "code",
   "execution_count": 16,
   "metadata": {},
   "outputs": [
    {
     "data": {
      "text/html": [
       "<div>\n",
       "<style scoped>\n",
       "    .dataframe tbody tr th:only-of-type {\n",
       "        vertical-align: middle;\n",
       "    }\n",
       "\n",
       "    .dataframe tbody tr th {\n",
       "        vertical-align: top;\n",
       "    }\n",
       "\n",
       "    .dataframe thead th {\n",
       "        text-align: right;\n",
       "    }\n",
       "</style>\n",
       "<table border=\"1\" class=\"dataframe\">\n",
       "  <thead>\n",
       "    <tr style=\"text-align: right;\">\n",
       "      <th></th>\n",
       "      <th>image</th>\n",
       "      <th>cluster</th>\n",
       "    </tr>\n",
       "  </thead>\n",
       "  <tbody>\n",
       "    <tr>\n",
       "      <th>0</th>\n",
       "      <td>054/0549263001.jpg</td>\n",
       "      <td>129</td>\n",
       "    </tr>\n",
       "    <tr>\n",
       "      <th>1</th>\n",
       "      <td>051/0510461001.jpg</td>\n",
       "      <td>129</td>\n",
       "    </tr>\n",
       "    <tr>\n",
       "      <th>2</th>\n",
       "      <td>053/0537631002.jpg</td>\n",
       "      <td>129</td>\n",
       "    </tr>\n",
       "    <tr>\n",
       "      <th>3</th>\n",
       "      <td>085/0854830002.jpg</td>\n",
       "      <td>129</td>\n",
       "    </tr>\n",
       "    <tr>\n",
       "      <th>4</th>\n",
       "      <td>060/0600768003.jpg</td>\n",
       "      <td>129</td>\n",
       "    </tr>\n",
       "    <tr>\n",
       "      <th>...</th>\n",
       "      <td>...</td>\n",
       "      <td>...</td>\n",
       "    </tr>\n",
       "    <tr>\n",
       "      <th>7995</th>\n",
       "      <td>072/0726172001.jpg</td>\n",
       "      <td>129</td>\n",
       "    </tr>\n",
       "    <tr>\n",
       "      <th>7996</th>\n",
       "      <td>091/0918642002.jpg</td>\n",
       "      <td>129</td>\n",
       "    </tr>\n",
       "    <tr>\n",
       "      <th>7997</th>\n",
       "      <td>063/0637858002.jpg</td>\n",
       "      <td>129</td>\n",
       "    </tr>\n",
       "    <tr>\n",
       "      <th>7998</th>\n",
       "      <td>090/0909823002.jpg</td>\n",
       "      <td>129</td>\n",
       "    </tr>\n",
       "    <tr>\n",
       "      <th>7999</th>\n",
       "      <td>069/0696942002.jpg</td>\n",
       "      <td>129</td>\n",
       "    </tr>\n",
       "  </tbody>\n",
       "</table>\n",
       "<p>8000 rows × 2 columns</p>\n",
       "</div>"
      ],
      "text/plain": [
       "                   image  cluster\n",
       "0     054/0549263001.jpg      129\n",
       "1     051/0510461001.jpg      129\n",
       "2     053/0537631002.jpg      129\n",
       "3     085/0854830002.jpg      129\n",
       "4     060/0600768003.jpg      129\n",
       "...                  ...      ...\n",
       "7995  072/0726172001.jpg      129\n",
       "7996  091/0918642002.jpg      129\n",
       "7997  063/0637858002.jpg      129\n",
       "7998  090/0909823002.jpg      129\n",
       "7999  069/0696942002.jpg      129\n",
       "\n",
       "[8000 rows x 2 columns]"
      ]
     },
     "execution_count": 16,
     "metadata": {},
     "output_type": "execute_result"
    }
   ],
   "source": [
    "df_img"
   ]
  },
  {
   "cell_type": "code",
   "execution_count": 17,
   "metadata": {},
   "outputs": [
    {
     "name": "stderr",
     "output_type": "stream",
     "text": [
      "100%|██████████| 8000/8000 [00:00<00:00, 117217.86it/s]\n"
     ]
    }
   ],
   "source": [
    "#Add the article nodes\n",
    "for i in tqdm(range(len(df_img))):\n",
    "    name_article = df_img['image'].iloc[i]\n",
    "    G_img.add_node(i, type='article', cluster=df_img['cluster'][i])"
   ]
  },
  {
   "cell_type": "code",
   "execution_count": 18,
   "metadata": {},
   "outputs": [
    {
     "name": "stderr",
     "output_type": "stream",
     "text": [
      "100%|██████████| 8000/8000 [00:00<00:00, 52378.63it/s]\n"
     ]
    }
   ],
   "source": [
    "#Add the edges\n",
    "for i in tqdm(range(len(df_img))):\n",
    "    name_article = df_img['image'].iloc[i]\n",
    "    cluster = df_img['cluster'][i]\n",
    "    G_img.add_edge(cluster, f\"article {name_article}\")"
   ]
  },
  {
   "cell_type": "code",
   "execution_count": 19,
   "metadata": {},
   "outputs": [],
   "source": [
    "#Save the graphs\n",
    "nx.write_gexf(G_tab, \"models/graph_tab.gexf\")\n",
    "nx.write_gexf(G_img, \"models/graph_img.gexf\")"
   ]
  },
  {
   "cell_type": "code",
   "execution_count": 20,
   "metadata": {},
   "outputs": [],
   "source": [
    "#Load the graphs\n",
    "G_tab = nx.read_gexf(\"models/graph_tab.gexf\")\n",
    "G_img = nx.read_gexf(\"models/graph_img.gexf\")"
   ]
  },
  {
   "cell_type": "code",
   "execution_count": 21,
   "metadata": {},
   "outputs": [
    {
     "name": "stdout",
     "output_type": "stream",
     "text": [
      "Number of edges in the tabular graph: 8000\n",
      "Number of edges in the image graph: 8000\n",
      "Number of nodes in the tabular graph: 8400\n",
      "Number of nodes in the image graph: 16000\n"
     ]
    }
   ],
   "source": [
    "#Compute the number of edges\n",
    "\n",
    "print(f\"Number of edges in the tabular graph: {G_tab.number_of_edges()}\")\n",
    "print(f\"Number of edges in the image graph: {G_img.number_of_edges()}\")\n",
    "print(f\"Number of nodes in the tabular graph: {G_tab.number_of_nodes()}\")\n",
    "print(f\"Number of nodes in the image graph: {G_img.number_of_nodes()}\")"
   ]
  },
  {
   "cell_type": "code",
   "execution_count": 22,
   "metadata": {},
   "outputs": [],
   "source": [
    "def calcul_spectre_graphe(graph):\n",
    "    \"\"\"\n",
    "    Calcul du spectre d'un graphe\n",
    "    :param graph: un graphe\n",
    "    :return: le spectre\n",
    "    \"\"\"\n",
    "    #get the adjancy matrix as scipy sparse matrix\n",
    "    adj = nx.to_scipy_sparse_array(graph)\n",
    "    #transform the type of data into float\n",
    "    adj = adj.astype(float)\n",
    "    #get the eigenvalues\n",
    "    _, s, _ = svds(adj)\n",
    "    return s"
   ]
  },
  {
   "cell_type": "code",
   "execution_count": 23,
   "metadata": {},
   "outputs": [],
   "source": [
    "def noyau_spectral(graph1, graph2, sigma):\n",
    "    \"\"\"\n",
    "    Noyau spectral entre deux graphes\n",
    "    :param graph1: le premier graphe\n",
    "    :param graph2: le deuxième graphe\n",
    "    :param sigma: l'hyperparamètre du noyau Gaussien (lien avec la variance)\n",
    "    :return: le produit scalaire entre les deux graphes\n",
    "    \"\"\"\n",
    "    s1 = calcul_spectre_graphe(graph1)\n",
    "    s2 = calcul_spectre_graphe(graph2)\n",
    "    diff = s1.shape[0] - s2.shape[0]\n",
    "    if diff < 0:\n",
    "        s1 = np.pad(s1, (0, -diff))\n",
    "    elif diff > 0:\n",
    "        s2 = np.pad(s2, (0, diff))\n",
    "    noyau = np.exp(-np.linalg.norm(s1 - s2) ** 2.0 / sigma ** 2.0)\n",
    "    return noyau"
   ]
  },
  {
   "cell_type": "code",
   "execution_count": 24,
   "metadata": {},
   "outputs": [
    {
     "name": "stdout",
     "output_type": "stream",
     "text": [
      "Noyau spectral du graphe tabulaire sur lui-même: 1.0\n"
     ]
    }
   ],
   "source": [
    "print(f\"Noyau spectral du graphe tabulaire sur lui-même: {noyau_spectral(G_tab, G_tab, 1.0)}\")"
   ]
  },
  {
   "cell_type": "code",
   "execution_count": 25,
   "metadata": {},
   "outputs": [
    {
     "name": "stdout",
     "output_type": "stream",
     "text": [
      "Noyau spectral du graphe image sur lui-même: 1.0\n"
     ]
    }
   ],
   "source": [
    "print(f\"Noyau spectral du graphe image sur lui-même: {noyau_spectral(G_img, G_img, 1.0)}\")"
   ]
  },
  {
   "cell_type": "code",
   "execution_count": 26,
   "metadata": {},
   "outputs": [
    {
     "name": "stdout",
     "output_type": "stream",
     "text": [
      "Noyau spectral entre les deux graphes: 0.0\n"
     ]
    }
   ],
   "source": [
    "print(f\"Noyau spectral entre les deux graphes: {noyau_spectral(G_tab, G_img, 1.0)}\")"
   ]
  },
  {
   "cell_type": "code",
   "execution_count": 27,
   "metadata": {},
   "outputs": [
    {
     "data": {
      "application/vnd.jupyter.widget-view+json": {
       "model_id": "d5a7bbeb0fcb472287eb79187d77e449",
       "version_major": 2,
       "version_minor": 0
      },
      "text/plain": [
       "Sigma(nx.Graph with 8,400 nodes and 8,000 edges)"
      ]
     },
     "execution_count": 27,
     "metadata": {},
     "output_type": "execute_result"
    }
   ],
   "source": [
    "#Affichage du graphe tabulaire\n",
    "import ipysigma \n",
    "ipysigma.Sigma(G_tab, node_color='cluster', edge_color='black')"
   ]
  }
 ],
 "metadata": {
  "kernelspec": {
   "display_name": "base",
   "language": "python",
   "name": "python3"
  },
  "language_info": {
   "codemirror_mode": {
    "name": "ipython",
    "version": 3
   },
   "file_extension": ".py",
   "mimetype": "text/x-python",
   "name": "python",
   "nbconvert_exporter": "python",
   "pygments_lexer": "ipython3",
   "version": "3.9.6"
  }
 },
 "nbformat": 4,
 "nbformat_minor": 2
}
